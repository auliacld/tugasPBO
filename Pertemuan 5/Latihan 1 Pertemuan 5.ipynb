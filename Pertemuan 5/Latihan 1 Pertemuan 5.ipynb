{
 "cells": [
  {
   "cell_type": "code",
   "execution_count": 1,
   "id": "a9e5f735",
   "metadata": {},
   "outputs": [
    {
     "name": "stdout",
     "output_type": "stream",
     "text": [
      "meow\n",
      "guk guk..\n"
     ]
    }
   ],
   "source": [
    "class kucing:\n",
    "    def __init__(self,nama,umur):\n",
    "        self.nama=nama\n",
    "        self.umur=umur\n",
    "    \n",
    "    def bersuara(self):\n",
    "        print(\"meow\")\n",
    "        \n",
    "class dog:\n",
    "    def __init__(self,nama,umur):\n",
    "        self.nama=nama\n",
    "        self.umur=nama\n",
    "    \n",
    "    def bersuara(self):\n",
    "        print(\"guk guk..\")\n",
    "\n",
    "kucing1=kucing(\"Tom\",3)\n",
    "dog1=dog(\"Spike\",3)\n",
    "\n",
    "for hewan in (kucing1,dog1):\n",
    "    hewan.bersuara()"
   ]
  },
  {
   "cell_type": "code",
   "execution_count": 3,
   "id": "4a1dc8fd",
   "metadata": {},
   "outputs": [
    {
     "name": "stdout",
     "output_type": "stream",
     "text": [
      "meow.. perkenalkan nama saya  Tom umur saya  3\n",
      "guk guk.. perkenalkan nama saya  Spike umur saya  Spike\n"
     ]
    }
   ],
   "source": [
    "class kucing:\n",
    "    def __init__(self,nama,umur):\n",
    "        self.nama=nama\n",
    "        self.umur=umur\n",
    "    \n",
    "    def bersuara(self):\n",
    "        print(f\"meow.. perkenalkan nama saya \",self.nama, \"umur saya \", self.umur)\n",
    "        \n",
    "class dog:\n",
    "    def __init__(self,nama,umur):\n",
    "        self.nama=nama\n",
    "        self.umur=nama\n",
    "    \n",
    "    def bersuara(self):\n",
    "        print(f\"guk guk.. perkenalkan nama saya \",self.nama, \"umur saya \", self.umur)\n",
    "\n",
    "kucing1=kucing(\"Tom\",3)\n",
    "dog1=dog(\"Spike\",3)\n",
    "\n",
    "for hewan in (kucing1,dog1):\n",
    "    hewan.bersuara()"
   ]
  },
  {
   "cell_type": "code",
   "execution_count": null,
   "id": "a8020b17",
   "metadata": {},
   "outputs": [],
   "source": []
  }
 ],
 "metadata": {
  "kernelspec": {
   "display_name": "Python 3",
   "language": "python",
   "name": "python3"
  },
  "language_info": {
   "codemirror_mode": {
    "name": "ipython",
    "version": 3
   },
   "file_extension": ".py",
   "mimetype": "text/x-python",
   "name": "python",
   "nbconvert_exporter": "python",
   "pygments_lexer": "ipython3",
   "version": "3.8.8"
  }
 },
 "nbformat": 4,
 "nbformat_minor": 5
}
