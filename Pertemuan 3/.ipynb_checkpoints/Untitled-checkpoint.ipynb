{
 "cells": [
  {
   "cell_type": "code",
   "execution_count": null,
   "id": "cd1e89fe",
   "metadata": {
    "scrolled": true
   },
   "outputs": [],
   "source": [
    "class univ:\n",
    "    def __init__ (self,akreditasi,jmlmhs,jmldosen):\n",
    "        self.akreditasi=akreditasi\n",
    "        self.jmlmhs=jmlmhs\n",
    "        self.jmldosen=jmldosen\n",
    "    def printname(self):\n",
    "        print(self.akreditasi)\n",
    "        print(self.jmlmhs)\n",
    "        print(self.jmldosen)\n",
    "        \n",
    "class prodi(univ):\n",
    "    def __init__ (self,akreditasi,jmlmhs,jmldosen):\n",
    "        univ.__init__(self, akreditasi, jmlmhs, jmldosen)\n",
    "        self.namamahasiswa=\"Aulia\"\n",
    "    \n",
    "class kamda(univ):\n",
    "    def __init__ (self,akreditasi,jmlmhs,jmldosen):\n",
    "        univ.__init__(self,akreditasi,jmlmhs,jmldosen)\n",
    "        self.namamahasiswa=\"Claudia\"\n",
    "\n",
    "x = prodi(\"C\",170,\"20\")\n",
    "y = kamda(\"B\",1200,\"60\")\n",
    "\n",
    "x.printname()\n",
    "print(x.namamahasiswa)\n",
    "y.printname()\n",
    "print(y.namamahasiswa)"
   ]
  },
  {
   "cell_type": "code",
   "execution_count": null,
   "id": "38297038",
   "metadata": {},
   "outputs": [],
   "source": []
  },
  {
   "cell_type": "code",
   "execution_count": null,
   "id": "87d3a5d7",
   "metadata": {},
   "outputs": [],
   "source": []
  }
 ],
 "metadata": {
  "kernelspec": {
   "display_name": "Python 3",
   "language": "python",
   "name": "python3"
  },
  "language_info": {
   "codemirror_mode": {
    "name": "ipython",
    "version": 3
   },
   "file_extension": ".py",
   "mimetype": "text/x-python",
   "name": "python",
   "nbconvert_exporter": "python",
   "pygments_lexer": "ipython3",
   "version": "3.8.8"
  }
 },
 "nbformat": 4,
 "nbformat_minor": 5
}
