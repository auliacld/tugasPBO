{
 "cells": [
  {
   "cell_type": "code",
   "execution_count": 16,
   "id": "7c145175",
   "metadata": {},
   "outputs": [
    {
     "name": "stdout",
     "output_type": "stream",
     "text": [
      "mbee.. saya berkaki  Empat berat saya  30 Kg saya adalah  kambing\n",
      "moo.. saya berkaki  Empat berat saya  230 Kg saya adalah  sapi\n"
     ]
    }
   ],
   "source": [
    "class kambing:\n",
    "    def __init__(self,kaki,berat,nama):\n",
    "        self.kaki=kaki\n",
    "        self.berat=berat\n",
    "        self.nama=nama\n",
    "    \n",
    "    def bunyi(self):\n",
    "        print(f\"mbee.. saya berkaki \",self.kaki, \"berat saya \", self.berat, \"saya adalah \", self.nama)\n",
    "        \n",
    "class sapi:\n",
    "    def __init__(self,kaki,berat,nama):\n",
    "        self.kaki=kaki\n",
    "        self.berat=berat\n",
    "        self.nama=nama\n",
    "    \n",
    "    def bunyi(self):\n",
    "        print(f\"moo.. saya berkaki \",self.kaki, \"berat saya \", self.berat, \"saya adalah \", self.nama)\n",
    "        \n",
    "hewan1 = kambing(\"Empat\",\"30 Kg\",\"kambing\")\n",
    "hewan2 = sapi(\"Empat\",\"230 Kg\",\"sapi\")\n",
    "\n",
    "for hewan in (hewan1,hewan2):\n",
    "    hewan.bunyi()"
   ]
  },
  {
   "cell_type": "code",
   "execution_count": null,
   "id": "cb5f4aea",
   "metadata": {},
   "outputs": [],
   "source": []
  }
 ],
 "metadata": {
  "kernelspec": {
   "display_name": "Python 3",
   "language": "python",
   "name": "python3"
  },
  "language_info": {
   "codemirror_mode": {
    "name": "ipython",
    "version": 3
   },
   "file_extension": ".py",
   "mimetype": "text/x-python",
   "name": "python",
   "nbconvert_exporter": "python",
   "pygments_lexer": "ipython3",
   "version": "3.8.8"
  }
 },
 "nbformat": 4,
 "nbformat_minor": 5
}
