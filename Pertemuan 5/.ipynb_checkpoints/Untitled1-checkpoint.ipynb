{
 "cells": [
  {
   "cell_type": "code",
   "execution_count": null,
   "id": "0aa33faa",
   "metadata": {},
   "outputs": [],
   "source": [
    "class Burung:\n",
    "    def intro(self):\n",
    "        print(\"Di dunia ini ada beberapa tipe yang berbeda dari spesies burung\")\n",
    "        \n",
    "    def terbang(self):\n",
    "        print(\"Hampir semua burung bisa terbang namun ada beberapa yang tidak bisa terbang\")\n",
    "        \n",
    "class Elang(Burung):\n",
    "    def terbang(self):\n",
    "        print(\"Elang dapat terbang\")\n",
    "\n"
   ]
  }
 ],
 "metadata": {
  "kernelspec": {
   "display_name": "Python 3",
   "language": "python",
   "name": "python3"
  },
  "language_info": {
   "codemirror_mode": {
    "name": "ipython",
    "version": 3
   },
   "file_extension": ".py",
   "mimetype": "text/x-python",
   "name": "python",
   "nbconvert_exporter": "python",
   "pygments_lexer": "ipython3",
   "version": "3.8.8"
  }
 },
 "nbformat": 4,
 "nbformat_minor": 5
}
