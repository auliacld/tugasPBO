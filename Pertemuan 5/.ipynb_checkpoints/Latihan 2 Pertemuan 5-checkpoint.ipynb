{
 "cells": [
  {
   "cell_type": "code",
   "execution_count": 1,
   "id": "43906ae8",
   "metadata": {},
   "outputs": [
    {
     "name": "stdout",
     "output_type": "stream",
     "text": [
      "Di dunia ini ada beberapa tipe yang berbeda dari spesies burung\n",
      "Hampir semua burung bisa terbang namun ada beberapa yang tidak bisa terbang\n",
      "\n",
      "\n",
      "Di dunia ini ada beberapa tipe yang berbeda dari spesies burung\n",
      "Elang dapat terbang\n",
      "\n",
      "\n",
      "Di dunia ini ada beberapa tipe yang berbeda dari spesies burung\n",
      "Burung Unta tidak dapat terbang\n"
     ]
    }
   ],
   "source": [
    "class Burung:\n",
    "    def intro(self):\n",
    "        print(\"Di dunia ini ada beberapa tipe yang berbeda dari spesies burung\")\n",
    "        \n",
    "    def terbang(self):\n",
    "        print(\"Hampir semua burung bisa terbang namun ada beberapa yang tidak bisa terbang\")\n",
    "        \n",
    "class Elang(Burung):\n",
    "    def terbang(self):\n",
    "        print(\"Elang dapat terbang\")\n",
    "\n",
    "class BurungUnta(Burung):\n",
    "    def terbang(self):\n",
    "        print(\"Burung Unta tidak dapat terbang\")\n",
    "\n",
    "obj_burung = Burung()\n",
    "obj_elang = Elang()\n",
    "obj_burung_unta = BurungUnta()\n",
    "\n",
    "obj_burung.intro()\n",
    "obj_burung.terbang()\n",
    "\n",
    "print (\"\\n\")\n",
    "\n",
    "obj_elang.intro()\n",
    "obj_elang.terbang()\n",
    "\n",
    "print (\"\\n\")\n",
    "\n",
    "obj_burung_unta.intro()\n",
    "obj_burung_unta.terbang()\n",
    "\n"
   ]
  },
  {
   "cell_type": "code",
   "execution_count": null,
   "id": "ec14acde",
   "metadata": {},
   "outputs": [],
   "source": []
  }
 ],
 "metadata": {
  "kernelspec": {
   "display_name": "Python 3",
   "language": "python",
   "name": "python3"
  },
  "language_info": {
   "codemirror_mode": {
    "name": "ipython",
    "version": 3
   },
   "file_extension": ".py",
   "mimetype": "text/x-python",
   "name": "python",
   "nbconvert_exporter": "python",
   "pygments_lexer": "ipython3",
   "version": "3.8.8"
  }
 },
 "nbformat": 4,
 "nbformat_minor": 5
}
